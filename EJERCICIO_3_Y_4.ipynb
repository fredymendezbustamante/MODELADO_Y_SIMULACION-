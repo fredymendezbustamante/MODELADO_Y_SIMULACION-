{
  "nbformat": 4,
  "nbformat_minor": 0,
  "metadata": {
    "colab": {
      "name": "EJERCICIO_3_Y_4.ipynb",
      "provenance": [],
      "authorship_tag": "ABX9TyPPJAOaMSozG3iPDGqnut36",
      "include_colab_link": true
    },
    "kernelspec": {
      "name": "python3",
      "display_name": "Python 3"
    }
  },
  "cells": [
    {
      "cell_type": "markdown",
      "metadata": {
        "id": "view-in-github",
        "colab_type": "text"
      },
      "source": [
        "<a href=\"https://colab.research.google.com/github/fredymendezbustamante/MODELADO_Y_SIMULACION-/blob/master/EJERCICIO_3_Y_4.ipynb\" target=\"_parent\"><img src=\"https://colab.research.google.com/assets/colab-badge.svg\" alt=\"Open In Colab\"/></a>"
      ]
    },
    {
      "cell_type": "code",
      "metadata": {
        "id": "IuHv4T_CqZ3i",
        "colab_type": "code",
        "colab": {}
      },
      "source": [
        ""
      ],
      "execution_count": null,
      "outputs": []
    },
    {
      "cell_type": "markdown",
      "metadata": {
        "id": "tQbhaNkbqju0",
        "colab_type": "text"
      },
      "source": [
        "## Ejemplo 3:\n",
        "Escribir una función que convierta un número decimal en binario y otra que convierta un número binario en decimal. \n",
        "\n",
        "\n",
        "\n"
      ]
    },
    {
      "cell_type": "code",
      "metadata": {
        "id": "6SeYQRr7qtxc",
        "colab_type": "code",
        "colab": {
          "base_uri": "https://localhost:8080/",
          "height": 153
        },
        "outputId": "d774d759-021e-4268-b5cc-b4f1cf56e9e9"
      },
      "source": [
        "dec = 0\n",
        "numero_binario = 0\n",
        "numero_decimal = 0\n",
        "print(\"número entero para tranformar a binario:\")\n",
        "dec = int(input())\n",
        "def bin2dec(binario):\n",
        "    dec = int(str(binario), 2)\n",
        "    return dec\n",
        "\n",
        "numero_decimal = dec2bin(dec)\n",
        "numero_binario = bin2dec(numero_decimal)\n",
        "print(\"Numero binario {}\" .format(numero_binario))\n",
        "print(\"Numero decimal {}\" .format(numero_decimal))\n",
        "\n",
        "\n",
        "\n",
        "print(\"número binario para tranformar a entero:\")\n",
        "bina = int(input())\n",
        "def dec2bin(decimal):\n",
        "    bina = \"\"\n",
        "    bin(dec)\n",
        "    bina = int(bin(decimal)[2:])\n",
        "    return bina\n",
        "numero_decimal = dec2bin(numero_binario)\n",
        "numero_binario = bin2dec(bina)\n",
        "print(\"Numero decimal {}\" .format(bina))\n",
        "print(\"Numero binario {}\" .format(numero_binario))\n"
      ],
      "execution_count": 38,
      "outputs": [
        {
          "output_type": "stream",
          "text": [
            "Dame un número entero para tranformar a binario:\n",
            "3\n",
            "Numero binario 3\n",
            "Numero decimal 11\n",
            "Dame un número binario para tranformar a entero:\n",
            "11\n",
            "Numero decimal 11\n",
            "Numero binario 3\n"
          ],
          "name": "stdout"
        }
      ]
    },
    {
      "cell_type": "code",
      "metadata": {
        "id": "sGbyiSDa38lV",
        "colab_type": "code",
        "colab": {}
      },
      "source": [
        ""
      ],
      "execution_count": null,
      "outputs": []
    },
    {
      "cell_type": "markdown",
      "metadata": {
        "id": "4e4tL-0D32oO",
        "colab_type": "text"
      },
      "source": [
        "## Ejercicio 4 \n",
        "\n",
        "Escribir un programa que reciba una cadena de caracteres y devuelva un diccionario con cada palabra que contiene y su frecuencia.\n",
        "Escribir otra función que reciba el diccionario generado con la función anterior y devuelva una tupla con la palabra más repetida y su frecuencia."
      ]
    },
    {
      "cell_type": "markdown",
      "metadata": {
        "id": "RV5_kGbt32oO",
        "colab_type": "text"
      },
      "source": [
        "## Solución"
      ]
    },
    {
      "cell_type": "code",
      "metadata": {
        "id": "uI2x2QKS32oQ",
        "colab_type": "code",
        "colab": {
          "base_uri": "https://localhost:8080/",
          "height": 51
        },
        "outputId": "c9576788-18d8-4185-893d-9bdb3e475ed3"
      },
      "source": [
        "def count_palabra(text):\n",
        "    text = text.split()\n",
        "    palabra = {}\n",
        "    for i in text:\n",
        "        if i in palabra:\n",
        "            palabra[i] += 1\n",
        "        else:\n",
        "            palabra[i] = 1\n",
        "    return palabra\n",
        "\n",
        "def most_repeated(palabra):\n",
        "    max_palabra = ''\n",
        "    max_freq = 0\n",
        "    for palabra, freq in palabra.items():\n",
        "        if freq > max_freq:\n",
        "            max_palbra = palabra\n",
        "            max_freq = freq\n",
        "    return max_palabra, max_freq\n",
        "\n",
        "text = 'que dice pues que '\n",
        "print(count_palabra(text))\n",
        "print(most_repeated(count_palabra(text)))"
      ],
      "execution_count": 50,
      "outputs": [
        {
          "output_type": "stream",
          "text": [
            "{'que': 2, 'dice': 1, 'pues': 1}\n",
            "('', 2)\n"
          ],
          "name": "stdout"
        }
      ]
    }
  ]
}