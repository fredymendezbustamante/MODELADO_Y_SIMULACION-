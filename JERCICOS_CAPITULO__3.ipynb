{
  "nbformat": 4,
  "nbformat_minor": 0,
  "metadata": {
    "colab": {
      "name": "JERCICOS_CAPITULO _3.ipynb",
      "provenance": [],
      "include_colab_link": true
    },
    "kernelspec": {
      "name": "python3",
      "display_name": "Python 3"
    }
  },
  "cells": [
    {
      "cell_type": "markdown",
      "metadata": {
        "id": "view-in-github",
        "colab_type": "text"
      },
      "source": [
        "<a href=\"https://colab.research.google.com/github/fredymendezbustamante/MODELADO_Y_SIMULACION-/blob/master/JERCICOS_CAPITULO__3.ipynb\" target=\"_parent\"><img src=\"https://colab.research.google.com/assets/colab-badge.svg\" alt=\"Open In Colab\"/></a>"
      ]
    },
    {
      "cell_type": "markdown",
      "metadata": {
        "id": "1VeGx_eI-rLT"
      },
      "source": [
        "#FREDY ALEXANDER MENDEZ BUSTAMANTE COD.816539\n",
        "#MODELADO Y SIMILACIÓN\n",
        "#EJERCICOS CAPITULO  3\n",
        "#Steven H. Strogatz.\n",
        "\n",
        "\n"
      ]
    },
    {
      "cell_type": "markdown",
      "metadata": {
        "id": "z2ZgjygG_9Fa"
      },
      "source": [
        "Para cada uno de los siguientes ejercicios, dibuje todos los campos vectoriales cualitativamente diferentes que\n",
        "ocurren cuando r varía. Demuestre que una bifurcación silla-nodo ocurre con un valor crítico de\n",
        "r, por determinar. Finalmente, dibuje el diagrama de bifurcación de puntos fijos x\n",
        "∗ frente a r."
      ]
    },
    {
      "cell_type": "code",
      "metadata": {
        "id": "Exssj7D_C7ds"
      },
      "source": [
        "import numpy as np\n",
        "import matplotlib.pyplot as plt\n",
        "from scipy.integrate import solve_ivp\n",
        "import matplotlib.style\n",
        "matplotlib.style.use('classic')\n",
        "import numpy as np\n",
        "from matplotlib import pyplot as plt\n",
        "import math"
      ],
      "execution_count": null,
      "outputs": []
    },
    {
      "cell_type": "code",
      "metadata": {
        "id": "EaRvKEYMM-er"
      },
      "source": [
        "def sistema1(r, x):\n",
        "    x_dot = 1+r*x+x**2\n",
        "    return x_dot\n",
        "\n",
        "\n",
        "def decimal_range(start, stop, increment):\n",
        "    while start < stop:\n",
        "        yield start\n",
        "        start += increment     "
      ],
      "execution_count": null,
      "outputs": []
    },
    {
      "cell_type": "markdown",
      "metadata": {
        "id": "fO5RfuZysVA8"
      },
      "source": [
        "# 3.1.1\n",
        "\n",
        "### Sistema 1: \n",
        "\n",
        "1. \\begin{equation}\n",
        "\\dot { x } =1+rx+x^2\n",
        "\\end{equation}\n"
      ]
    },
    {
      "cell_type": "code",
      "metadata": {
        "id": "WhlEf9os-mOT",
        "outputId": "67024dcf-d5ed-409d-e964-f1fdba3e088f",
        "colab": {
          "base_uri": "https://localhost:8080/",
          "height": 51
        }
      },
      "source": [
        "from sympy import  symbols, solve\n",
        "\n",
        "x = symbols('x')\n",
        "\n",
        "r = 2\n",
        "\n",
        "expr = 1+r*x+x**2\n",
        "\n",
        "sol = solve(expr)\n",
        "\n",
        "print(sol)\n",
        "\n",
        "###################################################\n",
        "\n",
        "x = symbols('x')\n",
        "\n",
        "r = 3\n",
        "\n",
        "expr = 1+r*x+x**2\n",
        "\n",
        "sol2 = solve(expr)\n",
        "\n",
        "print(sol2)"
      ],
      "execution_count": null,
      "outputs": [
        {
          "output_type": "stream",
          "text": [
            "[-1]\n",
            "[-3/2 - sqrt(5)/2, -3/2 + sqrt(5)/2]\n"
          ],
          "name": "stdout"
        }
      ]
    },
    {
      "cell_type": "markdown",
      "metadata": {
        "id": "K60jtauHAVXJ"
      },
      "source": [
        "\n",
        "Existe un punto fijo estable e inestable en  $|r| \\geq 2 .$ Para ver esto, establezco $\\dot{x}=1+r x+x^{2}=0$  ahora analizaremos la curva de los puntos fijos. Reordenando los términos da como resultado $x_{1,2}=-\\frac{r}{2} \\pm \\sqrt{\\frac{r^{2}}{4}-1}$ El argumento de la raíz cuadrada no debe ser negativo, lo que se cumple para $|r| \\geq 2$. Finalmente, ambas funciones describen la curva del diagrama de bifurcación. Las curvas se acercan a $f_{1}=-r$ y $f_{2}=0$ como $|r| \\rightarrow \\infty$\n"
      ]
    },
    {
      "cell_type": "code",
      "metadata": {
        "id": "NBusZsEhBUWA",
        "outputId": "f1c1a9eb-0eec-42b5-f6e6-d9d39f027510",
        "colab": {
          "base_uri": "https://localhost:8080/",
          "height": 34
        }
      },
      "source": [
        "rs=[0.5*i for i in range(2,0)]  #Valores de r\n",
        "#rs.extend([-3/2 - math.sqrt(5)/2,-3/2 + math.sqrt(5)/2])  #Agregamos un par de valores extra.\n",
        "n=10000   #Graficamos 100 puntos para cada r.\n",
        "x0=0.01   #Valor inicial de xn\n",
        "\n",
        "fig=plt.figure(figsize=(15,7))\n",
        "ordenadas=range(n)\n",
        "for j, r in enumerate(rs):\n",
        "    xns=[x0]\n",
        "    for i in range(n-1):\n",
        "        xns.append(1+r*xns[i]+(xns[i])**2)\n",
        "    plt.subplot(int('34'+str(j+1)))\n",
        "    plt.plot(ordenadas, xns, label=f'r = {r}')\n",
        "    plt.xlabel('Iteraciones')\n",
        "    plt.ylabel('$x_n$')\n",
        "    plt.legend()\n",
        "\n",
        "plt.subplots_adjust(hspace=0.5, wspace=0.25)\n",
        "plt.show()"
      ],
      "execution_count": null,
      "outputs": [
        {
          "output_type": "display_data",
          "data": {
            "text/plain": [
              "<Figure size 1200x560 with 0 Axes>"
            ]
          },
          "metadata": {
            "tags": []
          }
        }
      ]
    },
    {
      "cell_type": "code",
      "metadata": {
        "id": "JMHWx39Xt7Vz"
      },
      "source": [
        ""
      ],
      "execution_count": null,
      "outputs": []
    },
    {
      "cell_type": "code",
      "metadata": {
        "id": "zqEA079HtzgP"
      },
      "source": [
        ""
      ],
      "execution_count": null,
      "outputs": []
    },
    {
      "cell_type": "code",
      "metadata": {
        "id": "irqG2OXyaFLV"
      },
      "source": [
        "class secuenciaLogistica:\n",
        "    \"\"\"\n",
        "    Modela el sistema dinámico descrito por: x_{n+1} = f(r, x_n)\n",
        "    \"\"\"\n",
        "    def __init__(self, fx):\n",
        "        \"\"\"\n",
        "        Inicializa con x y r = 0 para una función fx arbitraria\n",
        "        \"\"\"\n",
        "        self.x, self.r, self.fx = 0, 0, fx\n",
        "    \n",
        "    def actualizar(self):\n",
        "        \"\"\"\n",
        "        Aplica el mapeo de acuerdo a la función fx.\n",
        "        Se asume que fx es una función de 2 argumentos: r y x.\n",
        "        \"\"\"\n",
        "        self.x = self.fx(self.r, self.x)\n",
        "    \n",
        "    def generarSecuencia(self, n):\n",
        "        \"Genera una secuencia de longitud n para la función fx\"\n",
        "        xns=[]\n",
        "        for i in range(n):\n",
        "            xns.append(self.x)\n",
        "            self.actualizar()\n",
        "        return xns\n",
        "    \n",
        "    def diagBifurcacion(self, inicio, fin, paso, x0, n, ultimos, titulo='', aspecto=(10,7)):\n",
        "        \"\"\"\n",
        "        Genera el diagrama de bifurcación de fx.\n",
        "        r en el intervalo [inicio, fin] dando pasos de tamaño `paso`\n",
        "        Usa una sucesión de `n` elementos y toma los \n",
        "        `ultimos` elementos de la sucesión para incluirlos en la gráfica.\n",
        "        Asigna un `titulo` a la gráfica.\n",
        "        Emplea una relacion de aspecto `aspecto`.\n",
        "        \"\"\"\n",
        "        import matplotlib.pyplot as plt\n",
        "        self.r=inicio\n",
        "        fig=plt.figure(figsize=aspecto)\n",
        "        while self.r<fin:\n",
        "            self.x=x0\n",
        "            xns=self.generarSecuencia(n)\n",
        "            self.r+=paso\n",
        "            xfinales=xns[n-ultimos:]\n",
        "            rs=[self.r for xs in xfinales]     \n",
        "            plt.scatter(rs, xfinales, c='b', marker='o', s=0.1)\n",
        "        plt.title(titulo)\n",
        "        plt.xlabel('$r$')\n",
        "        plt.ylabel('$x_n$\\'s convergentes')\n",
        "        plt.show()"
      ],
      "execution_count": null,
      "outputs": []
    },
    {
      "cell_type": "code",
      "metadata": {
        "id": "iveyU9uqaoQO",
        "outputId": "dbd61e73-0311-41be-f6bc-6449f534ca28",
        "colab": {
          "base_uri": "https://localhost:8080/",
          "height": 391
        }
      },
      "source": [
        "aplLogistica = lambda r, x: r-cosh(x)   #Define la función.\n",
        "secOriginal=secuenciaLogistica(aplLogistica)   #Inicializamos la clase\n",
        "secOriginal.diagBifurcacion(0,4,0.005,0.01,1000,50, titulo='$f(x_n)=rx_n(1-x_n)$')   #Llamamos al método que grafica el diagrama de bifurcación."
      ],
      "execution_count": null,
      "outputs": [
        {
          "output_type": "error",
          "ename": "NameError",
          "evalue": "ignored",
          "traceback": [
            "\u001b[0;31m---------------------------------------------------------------------------\u001b[0m",
            "\u001b[0;31mNameError\u001b[0m                                 Traceback (most recent call last)",
            "\u001b[0;32m<ipython-input-166-2e02997592b5>\u001b[0m in \u001b[0;36m<module>\u001b[0;34m()\u001b[0m\n\u001b[1;32m      1\u001b[0m \u001b[0maplLogistica\u001b[0m \u001b[0;34m=\u001b[0m \u001b[0;32mlambda\u001b[0m \u001b[0mr\u001b[0m\u001b[0;34m,\u001b[0m \u001b[0mx\u001b[0m\u001b[0;34m:\u001b[0m \u001b[0mr\u001b[0m\u001b[0;34m-\u001b[0m\u001b[0mcosh\u001b[0m\u001b[0;34m(\u001b[0m\u001b[0mx\u001b[0m\u001b[0;34m)\u001b[0m   \u001b[0;31m#Define la función.\u001b[0m\u001b[0;34m\u001b[0m\u001b[0;34m\u001b[0m\u001b[0m\n\u001b[1;32m      2\u001b[0m \u001b[0msecOriginal\u001b[0m\u001b[0;34m=\u001b[0m\u001b[0msecuenciaLogistica\u001b[0m\u001b[0;34m(\u001b[0m\u001b[0maplLogistica\u001b[0m\u001b[0;34m)\u001b[0m   \u001b[0;31m#Inicializamos la clase\u001b[0m\u001b[0;34m\u001b[0m\u001b[0;34m\u001b[0m\u001b[0m\n\u001b[0;32m----> 3\u001b[0;31m \u001b[0msecOriginal\u001b[0m\u001b[0;34m.\u001b[0m\u001b[0mdiagBifurcacion\u001b[0m\u001b[0;34m(\u001b[0m\u001b[0;36m0\u001b[0m\u001b[0;34m,\u001b[0m\u001b[0;36m4\u001b[0m\u001b[0;34m,\u001b[0m\u001b[0;36m0.005\u001b[0m\u001b[0;34m,\u001b[0m\u001b[0;36m0.01\u001b[0m\u001b[0;34m,\u001b[0m\u001b[0;36m1000\u001b[0m\u001b[0;34m,\u001b[0m\u001b[0;36m50\u001b[0m\u001b[0;34m,\u001b[0m \u001b[0mtitulo\u001b[0m\u001b[0;34m=\u001b[0m\u001b[0;34m'$f(x_n)=rx_n(1-x_n)$'\u001b[0m\u001b[0;34m)\u001b[0m   \u001b[0;31m#Llamamos al método que grafica el diagrama de bifurcación.\u001b[0m\u001b[0;34m\u001b[0m\u001b[0;34m\u001b[0m\u001b[0m\n\u001b[0m",
            "\u001b[0;32m<ipython-input-162-228ef90800c1>\u001b[0m in \u001b[0;36mdiagBifurcacion\u001b[0;34m(self, inicio, fin, paso, x0, n, ultimos, titulo, aspecto)\u001b[0m\n\u001b[1;32m     38\u001b[0m         \u001b[0;32mwhile\u001b[0m \u001b[0mself\u001b[0m\u001b[0;34m.\u001b[0m\u001b[0mr\u001b[0m\u001b[0;34m<\u001b[0m\u001b[0mfin\u001b[0m\u001b[0;34m:\u001b[0m\u001b[0;34m\u001b[0m\u001b[0;34m\u001b[0m\u001b[0m\n\u001b[1;32m     39\u001b[0m             \u001b[0mself\u001b[0m\u001b[0;34m.\u001b[0m\u001b[0mx\u001b[0m\u001b[0;34m=\u001b[0m\u001b[0mx0\u001b[0m\u001b[0;34m\u001b[0m\u001b[0;34m\u001b[0m\u001b[0m\n\u001b[0;32m---> 40\u001b[0;31m             \u001b[0mxns\u001b[0m\u001b[0;34m=\u001b[0m\u001b[0mself\u001b[0m\u001b[0;34m.\u001b[0m\u001b[0mgenerarSecuencia\u001b[0m\u001b[0;34m(\u001b[0m\u001b[0mn\u001b[0m\u001b[0;34m)\u001b[0m\u001b[0;34m\u001b[0m\u001b[0;34m\u001b[0m\u001b[0m\n\u001b[0m\u001b[1;32m     41\u001b[0m             \u001b[0mself\u001b[0m\u001b[0;34m.\u001b[0m\u001b[0mr\u001b[0m\u001b[0;34m+=\u001b[0m\u001b[0mpaso\u001b[0m\u001b[0;34m\u001b[0m\u001b[0;34m\u001b[0m\u001b[0m\n\u001b[1;32m     42\u001b[0m             \u001b[0mxfinales\u001b[0m\u001b[0;34m=\u001b[0m\u001b[0mxns\u001b[0m\u001b[0;34m[\u001b[0m\u001b[0mn\u001b[0m\u001b[0;34m-\u001b[0m\u001b[0multimos\u001b[0m\u001b[0;34m:\u001b[0m\u001b[0;34m]\u001b[0m\u001b[0;34m\u001b[0m\u001b[0;34m\u001b[0m\u001b[0m\n",
            "\u001b[0;32m<ipython-input-162-228ef90800c1>\u001b[0m in \u001b[0;36mgenerarSecuencia\u001b[0;34m(self, n)\u001b[0m\n\u001b[1;32m     21\u001b[0m         \u001b[0;32mfor\u001b[0m \u001b[0mi\u001b[0m \u001b[0;32min\u001b[0m \u001b[0mrange\u001b[0m\u001b[0;34m(\u001b[0m\u001b[0mn\u001b[0m\u001b[0;34m)\u001b[0m\u001b[0;34m:\u001b[0m\u001b[0;34m\u001b[0m\u001b[0;34m\u001b[0m\u001b[0m\n\u001b[1;32m     22\u001b[0m             \u001b[0mxns\u001b[0m\u001b[0;34m.\u001b[0m\u001b[0mappend\u001b[0m\u001b[0;34m(\u001b[0m\u001b[0mself\u001b[0m\u001b[0;34m.\u001b[0m\u001b[0mx\u001b[0m\u001b[0;34m)\u001b[0m\u001b[0;34m\u001b[0m\u001b[0;34m\u001b[0m\u001b[0m\n\u001b[0;32m---> 23\u001b[0;31m             \u001b[0mself\u001b[0m\u001b[0;34m.\u001b[0m\u001b[0mactualizar\u001b[0m\u001b[0;34m(\u001b[0m\u001b[0;34m)\u001b[0m\u001b[0;34m\u001b[0m\u001b[0;34m\u001b[0m\u001b[0m\n\u001b[0m\u001b[1;32m     24\u001b[0m         \u001b[0;32mreturn\u001b[0m \u001b[0mxns\u001b[0m\u001b[0;34m\u001b[0m\u001b[0;34m\u001b[0m\u001b[0m\n\u001b[1;32m     25\u001b[0m \u001b[0;34m\u001b[0m\u001b[0m\n",
            "\u001b[0;32m<ipython-input-162-228ef90800c1>\u001b[0m in \u001b[0;36mactualizar\u001b[0;34m(self)\u001b[0m\n\u001b[1;32m     14\u001b[0m         \u001b[0mSe\u001b[0m \u001b[0masume\u001b[0m \u001b[0mque\u001b[0m \u001b[0mfx\u001b[0m \u001b[0mes\u001b[0m \u001b[0muna\u001b[0m \u001b[0mfunción\u001b[0m \u001b[0mde\u001b[0m \u001b[0;36m2\u001b[0m \u001b[0margumentos\u001b[0m\u001b[0;34m:\u001b[0m \u001b[0mr\u001b[0m \u001b[0my\u001b[0m \u001b[0mx\u001b[0m\u001b[0;34m.\u001b[0m\u001b[0;34m\u001b[0m\u001b[0;34m\u001b[0m\u001b[0m\n\u001b[1;32m     15\u001b[0m         \"\"\"\n\u001b[0;32m---> 16\u001b[0;31m         \u001b[0mself\u001b[0m\u001b[0;34m.\u001b[0m\u001b[0mx\u001b[0m \u001b[0;34m=\u001b[0m \u001b[0mself\u001b[0m\u001b[0;34m.\u001b[0m\u001b[0mfx\u001b[0m\u001b[0;34m(\u001b[0m\u001b[0mself\u001b[0m\u001b[0;34m.\u001b[0m\u001b[0mr\u001b[0m\u001b[0;34m,\u001b[0m \u001b[0mself\u001b[0m\u001b[0;34m.\u001b[0m\u001b[0mx\u001b[0m\u001b[0;34m)\u001b[0m\u001b[0;34m\u001b[0m\u001b[0;34m\u001b[0m\u001b[0m\n\u001b[0m\u001b[1;32m     17\u001b[0m \u001b[0;34m\u001b[0m\u001b[0m\n\u001b[1;32m     18\u001b[0m     \u001b[0;32mdef\u001b[0m \u001b[0mgenerarSecuencia\u001b[0m\u001b[0;34m(\u001b[0m\u001b[0mself\u001b[0m\u001b[0;34m,\u001b[0m \u001b[0mn\u001b[0m\u001b[0;34m)\u001b[0m\u001b[0;34m:\u001b[0m\u001b[0;34m\u001b[0m\u001b[0;34m\u001b[0m\u001b[0m\n",
            "\u001b[0;32m<ipython-input-166-2e02997592b5>\u001b[0m in \u001b[0;36m<lambda>\u001b[0;34m(r, x)\u001b[0m\n\u001b[0;32m----> 1\u001b[0;31m \u001b[0maplLogistica\u001b[0m \u001b[0;34m=\u001b[0m \u001b[0;32mlambda\u001b[0m \u001b[0mr\u001b[0m\u001b[0;34m,\u001b[0m \u001b[0mx\u001b[0m\u001b[0;34m:\u001b[0m \u001b[0mr\u001b[0m\u001b[0;34m-\u001b[0m\u001b[0mcosh\u001b[0m\u001b[0;34m(\u001b[0m\u001b[0mx\u001b[0m\u001b[0;34m)\u001b[0m   \u001b[0;31m#Define la función.\u001b[0m\u001b[0;34m\u001b[0m\u001b[0;34m\u001b[0m\u001b[0m\n\u001b[0m\u001b[1;32m      2\u001b[0m \u001b[0msecOriginal\u001b[0m\u001b[0;34m=\u001b[0m\u001b[0msecuenciaLogistica\u001b[0m\u001b[0;34m(\u001b[0m\u001b[0maplLogistica\u001b[0m\u001b[0;34m)\u001b[0m   \u001b[0;31m#Inicializamos la clase\u001b[0m\u001b[0;34m\u001b[0m\u001b[0;34m\u001b[0m\u001b[0m\n\u001b[1;32m      3\u001b[0m \u001b[0msecOriginal\u001b[0m\u001b[0;34m.\u001b[0m\u001b[0mdiagBifurcacion\u001b[0m\u001b[0;34m(\u001b[0m\u001b[0;36m0\u001b[0m\u001b[0;34m,\u001b[0m\u001b[0;36m4\u001b[0m\u001b[0;34m,\u001b[0m\u001b[0;36m0.005\u001b[0m\u001b[0;34m,\u001b[0m\u001b[0;36m0.01\u001b[0m\u001b[0;34m,\u001b[0m\u001b[0;36m1000\u001b[0m\u001b[0;34m,\u001b[0m\u001b[0;36m50\u001b[0m\u001b[0;34m,\u001b[0m \u001b[0mtitulo\u001b[0m\u001b[0;34m=\u001b[0m\u001b[0;34m'$f(x_n)=rx_n(1-x_n)$'\u001b[0m\u001b[0;34m)\u001b[0m   \u001b[0;31m#Llamamos al método que grafica el diagrama de bifurcación.\u001b[0m\u001b[0;34m\u001b[0m\u001b[0;34m\u001b[0m\u001b[0m\n",
            "\u001b[0;31mNameError\u001b[0m: name 'cosh' is not defined"
          ]
        },
        {
          "output_type": "display_data",
          "data": {
            "text/plain": [
              "<Figure size 800x560 with 0 Axes>"
            ]
          },
          "metadata": {
            "tags": []
          }
        }
      ]
    },
    {
      "cell_type": "code",
      "metadata": {
        "id": "3IP6dvXfUqSG"
      },
      "source": [
        ""
      ],
      "execution_count": null,
      "outputs": []
    }
  ]
}